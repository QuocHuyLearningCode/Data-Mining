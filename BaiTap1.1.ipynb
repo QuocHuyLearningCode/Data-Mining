{
 "cells": [
  {
   "cell_type": "markdown",
   "id": "326df220-851d-4d03-99d6-c54092383d8a",
   "metadata": {},
   "source": [
    "<div style=\"text-align: center;\">\n",
    "    <span style=\"font-size: 25px; color: black;\">\n",
    "        <strong>[010412204101] - Khai thác dữ liệu</strong>\n",
    "    </span><br>\n",
    "    <span style=\"font-size: 25px; color: black;\">\n",
    "        <strong>Nguyễn Quốc Huy - 22H1120071 - CN22CLCC</strong>\n",
    "    </span><br>\n",
    "    <p style=\"font-size: 25px; color: black;\">\n",
    "        <strong>Bài tập 1.1</strong>\n",
    "    </p>\n",
    "</div>\n"
   ]
  },
  {
   "cell_type": "markdown",
   "id": "cc02d05e-4f27-47ac-b21f-bd34a435a950",
   "metadata": {},
   "source": [
    "<p style=\"font-size: 20px;\">\n",
    "        <strong>1. Nhập xuất với Python</strong>"
   ]
  },
  {
   "cell_type": "code",
   "execution_count": 1,
   "id": "ae83c231-1d95-41e7-91bc-183853c220b1",
   "metadata": {},
   "outputs": [
    {
     "name": "stdout",
     "output_type": "stream",
     "text": [
      "Data mining\n"
     ]
    }
   ],
   "source": [
    "# 1. Nhập/ Xuất với Python\n",
    "# a. Xuất \n",
    "print(\"Data mining\")"
   ]
  },
  {
   "cell_type": "code",
   "execution_count": 2,
   "id": "f7db65e3-8839-489d-9c6f-476c127c8995",
   "metadata": {},
   "outputs": [
    {
     "name": "stdin",
     "output_type": "stream",
     "text": [
      "Nhập họ và tên:  Nguyễn Quốc Huy\n",
      "Nhập mã số sinh viên:  22H1120071\n",
      "Nhập lớp:  CN22CLCC\n"
     ]
    },
    {
     "name": "stdout",
     "output_type": "stream",
     "text": [
      "Tên: Nguyễn Quốc Huy, MSSV: 22H1120071, Lớp: CN22CLCC\n"
     ]
    }
   ],
   "source": [
    "# b. Nhập với Python\n",
    "studentName = input(\"Nhập họ và tên: \")\n",
    "numberID = input(\"Nhập mã số sinh viên: \")\n",
    "className = input(\"Nhập lớp: \")\n",
    "print(f\"Tên: {studentName}, MSSV: {numberID}, Lớp: {className}\")"
   ]
  },
  {
   "cell_type": "markdown",
   "id": "24c033ef-4477-4444-837d-39025ad37578",
   "metadata": {},
   "source": [
    "<p style=\"font-size: 20px;\">\n",
    "        <strong>2. Các kiểu dữ liệu cơ bản</strong>"
   ]
  },
  {
   "cell_type": "code",
   "execution_count": 3,
   "id": "056e757b-80f2-40dc-b6d8-ec06b838d1d6",
   "metadata": {},
   "outputs": [
    {
     "name": "stdout",
     "output_type": "stream",
     "text": [
      "Tổng: 13.14159, Hiệu: 6.85841, Tích: 31.4159, Thương: 3.1831015504887654\n"
     ]
    }
   ],
   "source": [
    "# 2. Các kiểu dữ liệu cơ bản và phép toán trên chúng (string, interger, float, bool)\n",
    "# a. Interger (Số nguyên) - Float (Số thực)\n",
    "x = 10  # Integer\n",
    "y = 3.14159  # Float\n",
    "print(f\"Tổng: {x + y}, Hiệu: {x - y}, Tích: {x * y}, Thương: {x / y}\")"
   ]
  },
  {
   "cell_type": "code",
   "execution_count": 4,
   "id": "f60ab1f5-ae63-4ecd-8954-72a4a7e410c1",
   "metadata": {},
   "outputs": [
    {
     "name": "stdout",
     "output_type": "stream",
     "text": [
      "DATA MINING\n",
      "Độ dài của chuỗi là: 11\n"
     ]
    }
   ],
   "source": [
    "# b. String (Chuỗi)\n",
    "text = \"Data Mining\"\n",
    "print(text.upper())  # Chuyển thành chữ hoa\n",
    "print(f\"Độ dài của chuỗi là: {len(text)}\")"
   ]
  },
  {
   "cell_type": "code",
   "execution_count": 5,
   "id": "c1e9aae4-439e-4ec4-8e5d-720254ce56e5",
   "metadata": {},
   "outputs": [
    {
     "name": "stdout",
     "output_type": "stream",
     "text": [
      "Giá trị đảo ngược: False\n"
     ]
    }
   ],
   "source": [
    "# c. Bool\n",
    "is_active = True\n",
    "print(f\"Giá trị đảo ngược: {not is_active}\")"
   ]
  },
  {
   "cell_type": "markdown",
   "id": "186e541f-24db-4ff8-9bd7-46c776fd7e16",
   "metadata": {},
   "source": [
    "<p style=\"font-size: 20px;\">\n",
    "        <strong>3. Các kiểu dữ liệu nâng cao: List, Tupble, Set, Dictionary</strong>"
   ]
  },
  {
   "cell_type": "code",
   "execution_count": 6,
   "id": "791c595b-970f-48de-b0a9-8d298311ddaa",
   "metadata": {},
   "outputs": [
    {
     "name": "stdout",
     "output_type": "stream",
     "text": [
      "['apple', 'banana', 'cherry', 'orange']\n"
     ]
    }
   ],
   "source": [
    "# 3. Các kiểu dữ liệu nâng cao: List, Tupble, Set, Dictionary\n",
    "# (Mỗi kiểu dữ liệu cho mô tả ngắn, ngữ cảnh áp dụng, và ví dụ minh hoạ)\n",
    "# a. List\n",
    "fruits = [\"apple\", \"banana\", \"cherry\"]\n",
    "fruits.append(\"orange\")  # Thêm phần tử\n",
    "print(fruits)"
   ]
  },
  {
   "cell_type": "code",
   "execution_count": 7,
   "id": "1d11baad-7f70-4e9d-a4b6-9f4bea25a919",
   "metadata": {},
   "outputs": [
    {
     "name": "stdout",
     "output_type": "stream",
     "text": [
      "Giá trị tại index 1: 20\n"
     ]
    }
   ],
   "source": [
    "# b. Tupble\n",
    "coordinates = (10, 20)\n",
    "print(f\"Giá trị tại index 1: {coordinates[1]}\")"
   ]
  },
  {
   "cell_type": "code",
   "execution_count": 8,
   "id": "fe0cf00c-55ae-46ed-bd57-fe79bd4fcdd6",
   "metadata": {},
   "outputs": [
    {
     "name": "stdout",
     "output_type": "stream",
     "text": [
      "{1, 2, 3}\n"
     ]
    }
   ],
   "source": [
    "# c. Set\n",
    "unique_numbers = {1, 2, 2, 3}\n",
    "print(unique_numbers)"
   ]
  },
  {
   "cell_type": "code",
   "execution_count": 9,
   "id": "cf49d8b3-5020-418b-8657-d03c521e477f",
   "metadata": {},
   "outputs": [
    {
     "name": "stdout",
     "output_type": "stream",
     "text": [
      "Tên: Quoc Huy\n",
      "Tuổi: 20\n"
     ]
    }
   ],
   "source": [
    "# d. Dictionary\n",
    "student = {\"name\": \"Quoc Huy\", \"age\": 20}\n",
    "print(f\"Tên: {student['name']}\")\n",
    "print(f\"Tuổi: {student['age']}\")"
   ]
  },
  {
   "cell_type": "markdown",
   "id": "c594cb8e-8b27-4eca-84bb-d36496766684",
   "metadata": {},
   "source": [
    "<p style=\"font-size: 20px;\">\n",
    "        <strong>4. Cấu trúc lệnh trong python</strong>"
   ]
  },
  {
   "cell_type": "code",
   "execution_count": 10,
   "id": "bb05b5a0-8427-4483-bd8c-afb538a27659",
   "metadata": {},
   "outputs": [
    {
     "name": "stdout",
     "output_type": "stream",
     "text": [
      "Đủ tuổi\n"
     ]
    }
   ],
   "source": [
    "# 4. Cấu trúc lệnh trong python\n",
    "# a. Lệnh điều kiện\n",
    "# Mô tả: Lựa chọn dựa trên điều kiện\n",
    "age = 20\n",
    "if age >= 18:\n",
    "    print(\"Đủ tuổi\")\n",
    "else:\n",
    "    print(\"Chưa đủ tuổi\")"
   ]
  },
  {
   "cell_type": "code",
   "execution_count": 11,
   "id": "e978effd-37d1-4848-9423-a385d17d2538",
   "metadata": {},
   "outputs": [
    {
     "name": "stdout",
     "output_type": "stream",
     "text": [
      "Số: 0\n",
      "Số: 1\n",
      "Số: 2\n",
      "Số: 3\n",
      "Số: 4\n",
      "Số: 5\n",
      "Số: 6\n",
      "Số: 7\n",
      "Số: 8\n",
      "Số: 9\n"
     ]
    }
   ],
   "source": [
    "# b. Lệnh lặp\n",
    "for i in range(10):\n",
    "    print(f\"Số: {i}\")"
   ]
  },
  {
   "cell_type": "code",
   "execution_count": 12,
   "id": "41dea66c-9b2a-4da9-80f3-6042a1340be4",
   "metadata": {},
   "outputs": [
    {
     "name": "stdout",
     "output_type": "stream",
     "text": [
      "0 0\n",
      "0 1\n",
      "0 2\n",
      "1 0\n",
      "1 1\n",
      "1 2\n",
      "2 0\n",
      "2 1\n",
      "2 2\n"
     ]
    }
   ],
   "source": [
    "# b. Lệnh lặp\n",
    "for i in range(3):\n",
    "    for j in range(3):\n",
    "        print (i, j)"
   ]
  },
  {
   "cell_type": "markdown",
   "id": "cc79c41e-988e-4bbb-af9c-f63fa9bdcedb",
   "metadata": {},
   "source": [
    "<p style=\"font-size: 20px;\">\n",
    "        <strong>5. Khai báo hàm</strong>"
   ]
  },
  {
   "cell_type": "code",
   "execution_count": 13,
   "id": "ade7c50e-d301-4af7-bf40-e0e79b98dfcf",
   "metadata": {},
   "outputs": [
    {
     "name": "stdout",
     "output_type": "stream",
     "text": [
      "Tổng a + b = 9\n"
     ]
    }
   ],
   "source": [
    "# 5. Khai báo hàm\n",
    "def sum(a, b):\n",
    "    return a+b\n",
    "print(f\"Tổng a + b = {sum(4,5)}\")"
   ]
  },
  {
   "cell_type": "markdown",
   "id": "89b0bbc4-f9dd-4925-99b7-6b2ba0af9c52",
   "metadata": {},
   "source": [
    "<p style=\"font-size: 20px;\">\n",
    "        <strong>6. Đọc ghi file văn bản</strong>"
   ]
  },
  {
   "cell_type": "code",
   "execution_count": 14,
   "id": "5dc7e0bb-5e93-43e6-9bb6-38e736b18714",
   "metadata": {},
   "outputs": [
    {
     "name": "stdout",
     "output_type": "stream",
     "text": [
      "Nguyen Quoc Huy - 22H1120071 - CN22CLCC\n"
     ]
    }
   ],
   "source": [
    "# 6. Đọc ghi file văn bản\n",
    "# Ghi file\n",
    "with open(\"py_lab1.txt\", \"w\") as file:\n",
    "    file.write(\"Nguyen Quoc Huy - 22H1120071 - CN22CLCC\")\n",
    "\n",
    "# Đọc file\n",
    "with open(\"py_lab1.txt\", \"r\") as file:\n",
    "    content = file.read()\n",
    "    print(content)\n"
   ]
  },
  {
   "cell_type": "code",
   "execution_count": null,
   "id": "5a427595-0521-4955-a903-2f5f6be01c0c",
   "metadata": {},
   "outputs": [],
   "source": []
  }
 ],
 "metadata": {
  "kernelspec": {
   "display_name": "Python 3 (ipykernel)",
   "language": "python",
   "name": "python3"
  },
  "language_info": {
   "codemirror_mode": {
    "name": "ipython",
    "version": 3
   },
   "file_extension": ".py",
   "mimetype": "text/x-python",
   "name": "python",
   "nbconvert_exporter": "python",
   "pygments_lexer": "ipython3",
   "version": "3.12.0"
  }
 },
 "nbformat": 4,
 "nbformat_minor": 5
}
