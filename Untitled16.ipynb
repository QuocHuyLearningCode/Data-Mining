{
 "cells": [
  {
   "cell_type": "code",
   "execution_count": null,
   "id": "2cb7fca0-3fa2-4450-832d-590b1907a1a5",
   "metadata": {},
   "outputs": [],
   "source": []
  }
 ],
 "metadata": {
  "kernelspec": {
   "display_name": "",
   "name": ""
  },
  "language_info": {
   "name": ""
  }
 },
 "nbformat": 4,
 "nbformat_minor": 5
}
