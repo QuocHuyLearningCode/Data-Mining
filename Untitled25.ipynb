{
 "cells": [
  {
   "cell_type": "code",
   "execution_count": 4,
   "id": "7c65daf3-776e-411c-bec5-86532cbe2fd5",
   "metadata": {},
   "outputs": [
    {
     "name": "stdout",
     "output_type": "stream",
     "text": [
      "Hello\n"
     ]
    }
   ],
   "source": [
    "print(\"Hello\")"
   ]
  },
  {
   "cell_type": "code",
   "execution_count": 5,
   "id": "b461b829-69dc-4552-b20c-ab74922f62a5",
   "metadata": {},
   "outputs": [],
   "source": [
    "import matplotlib.pyplot as plt\n",
    "from sklearn.datasets import load_digits\n",
    "from sklearn.model_selection import train_test_split\n",
    "from sklearn.pipeline import make_pipeline\n",
    "from sklearn.preprocessing import StandardScaler\n",
    "from sklearn.metrics import accuracy_score\n",
    "from sklearn.decomposition import PCA\n",
    "from sklearn.neighbors import KNeighborsClassifier\n",
    "from sklearn.svm import SVC\n",
    "from sklearn.ensemble import RandomForestClassifier\n",
    "from sklearn.tree import DecisionTreeClassifier\n",
    "from sklearn.neural_network import MLPClassifier\n",
    "from sklearn.ensemble import AdaBoostClassifier\n",
    "from sklearn.naive_bayes import GaussianNB\n",
    "from sklearn.discriminant_analysis import QuadraticDiscriminantAnalysis\n",
    "from sklearn.gaussian_process import GaussianProcessClassifier\n",
    "from sklearn.gaussian_process.kernels import RBF"
   ]
  },
  {
   "cell_type": "code",
   "execution_count": 6,
   "id": "2cff1c26-0c9e-4ad9-8917-849a86078ced",
   "metadata": {},
   "outputs": [],
   "source": [
    "# Các classifier từ bài tập 03.1\n",
    "classifiers = [\n",
    "    KNeighborsClassifier(3),\n",
    "    SVC(kernel=\"linear\", C=0.025, random_state=42),\n",
    "    SVC(gamma=2, C=1, random_state=42),\n",
    "    GaussianProcessClassifier(1.0 * RBF(1.0), random_state=42),\n",
    "    DecisionTreeClassifier(max_depth=5, random_state=42),\n",
    "    RandomForestClassifier(max_depth=5, n_estimators=10, max_features=1, random_state=42),\n",
    "    MLPClassifier(alpha=1, max_iter=1000, random_state=42),\n",
    "    AdaBoostClassifier(random_state=42),\n",
    "    GaussianNB(),\n",
    "    QuadraticDiscriminantAnalysis(reg_param=0.1)  # Tăng tham số reg_param để xử lý cảnh báo\n",
    "]"
   ]
  },
  {
   "cell_type": "code",
   "execution_count": 7,
   "id": "571383f5-0ea6-46b6-9f60-a14860923a0f",
   "metadata": {},
   "outputs": [],
   "source": [
    "\n",
    "# Tải dataset Digits\n",
    "digits = load_digits()\n",
    "X, y = digits.data, digits.target"
   ]
  },
  {
   "cell_type": "code",
   "execution_count": 8,
   "id": "bc51fdf3-1b82-4374-b740-e4fa8a192c8d",
   "metadata": {},
   "outputs": [],
   "source": [
    "# Chia dữ liệu thành training và test set\n",
    "X_train, X_test, y_train, y_test = train_test_split(X, y, test_size=0.4, random_state=42)"
   ]
  },
  {
   "cell_type": "code",
   "execution_count": 9,
   "id": "61e00ecc-61ac-411e-8f69-535560305a8e",
   "metadata": {},
   "outputs": [],
   "source": [
    "# Giảm chiều dữ liệu với PCA (nếu cần)\n",
    "pca = PCA(n_components=20)  # Giảm số chiều dữ liệu xuống còn 20\n",
    "X_train_pca = pca.fit_transform(X_train)\n",
    "X_test_pca = pca.transform(X_test)"
   ]
  },
  {
   "cell_type": "code",
   "execution_count": 10,
   "id": "01d34c73-edd1-452c-815f-8b09a1c26307",
   "metadata": {},
   "outputs": [],
   "source": [
    "# Biến lưu trữ độ chính xác của mỗi classifier\n",
    "accuracy_scores = []"
   ]
  },
  {
   "cell_type": "code",
   "execution_count": null,
   "id": "5d006111-896d-464a-9c98-3ec41174c4d8",
   "metadata": {},
   "outputs": [],
   "source": [
    "# Áp dụng các classifier và tính toán độ chính xác\n",
    "for clf in classifiers:\n",
    "    # Tạo pipeline với StandardScaler và classifier\n",
    "    clf_pipeline = make_pipeline(StandardScaler(), clf)\n",
    "    \n",
    "    # Áp dụng PCA trước khi huấn luyện (nếu cần)\n",
    "    if clf.__class__.__name__ == 'QuadraticDiscriminantAnalysis':\n",
    "        clf_pipeline.fit(X_train_pca, y_train)  # Dùng X_train_pca cho QDA\n",
    "    else:\n",
    "        clf_pipeline.fit(X_train, y_train)  # Dùng X_train cho các classifier khác\n",
    "    \n",
    "    # Dự đoán trên test set\n",
    "    if clf.__class__.__name__ == 'QuadraticDiscriminantAnalysis':\n",
    "        y_pred = clf_pipeline.predict(X_test_pca)  # Dự đoán với X_test_pca cho QDA\n",
    "    else:\n",
    "        y_pred = clf_pipeline.predict(X_test)  # Dự đoán với X_test cho các classifier khác\n",
    "    \n",
    "    # Tính toán độ chính xác\n",
    "    accuracy = accuracy_score(y_test, y_pred)\n",
    "    accuracy_scores.append((clf.__class__.__name__, accuracy))"
   ]
  },
  {
   "cell_type": "code",
   "execution_count": null,
   "id": "dcdaba8f-3c10-407a-87f7-5d6cdabf3834",
   "metadata": {},
   "outputs": [],
   "source": [
    "# Sắp xếp theo độ chính xác từ cao xuống thấp\n",
    "accuracy_scores = sorted(accuracy_scores, key=lambda x: x[1], reverse=True)\n"
   ]
  },
  {
   "cell_type": "code",
   "execution_count": null,
   "id": "ae8045cd-ef8f-4dae-947f-467cc67cb290",
   "metadata": {},
   "outputs": [],
   "source": []
  }
 ],
 "metadata": {
  "kernelspec": {
   "display_name": "Python 3 (ipykernel)",
   "language": "python",
   "name": "python3"
  },
  "language_info": {
   "codemirror_mode": {
    "name": "ipython",
    "version": 3
   },
   "file_extension": ".py",
   "mimetype": "text/x-python",
   "name": "python",
   "nbconvert_exporter": "python",
   "pygments_lexer": "ipython3",
   "version": "3.12.0"
  }
 },
 "nbformat": 4,
 "nbformat_minor": 5
}
