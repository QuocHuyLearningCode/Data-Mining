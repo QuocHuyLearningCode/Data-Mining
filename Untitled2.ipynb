{
 "cells": [
  {
   "cell_type": "code",
   "execution_count": 2,
   "id": "fbd6962a-0022-4cb8-911f-c71e6d0128ef",
   "metadata": {},
   "outputs": [],
   "source": [
    "import pandas as pd\n",
    "import numpy as np"
   ]
  },
  {
   "cell_type": "code",
   "execution_count": null,
   "id": "cb9723c0-6062-453e-96ea-f6386cf82205",
   "metadata": {},
   "outputs": [],
   "source": []
  },
  {
   "cell_type": "code",
   "execution_count": 3,
   "id": "0f918fdf-d872-4923-8b0f-54aefa800119",
   "metadata": {},
   "outputs": [],
   "source": [
    "sv = pd.read_csv('Book1.csv', sep = '\\t')\n"
   ]
  },
  {
   "cell_type": "code",
   "execution_count": null,
   "id": "7c692ca0-9ba4-4c09-b50e-2d4fc91375ea",
   "metadata": {},
   "outputs": [],
   "source": [
    "sv \n"
   ]
  },
  {
   "cell_type": "code",
   "execution_count": 3,
   "id": "1ccf8459-426b-42ad-8dc7-ee4e28a4b5f4",
   "metadata": {},
   "outputs": [],
   "source": [
    "df = pd.read_csv('data_for_test_10000.csv', sep = '\\t')"
   ]
  },
  {
   "cell_type": "code",
   "execution_count": 4,
   "id": "29eb2fc1-ee61-4bc3-90e2-f93823ad4e7c",
   "metadata": {},
   "outputs": [
    {
     "data": {
      "text/html": [
       "<div>\n",
       "<style scoped>\n",
       "    .dataframe tbody tr th:only-of-type {\n",
       "        vertical-align: middle;\n",
       "    }\n",
       "\n",
       "    .dataframe tbody tr th {\n",
       "        vertical-align: top;\n",
       "    }\n",
       "\n",
       "    .dataframe thead th {\n",
       "        text-align: right;\n",
       "    }\n",
       "</style>\n",
       "<table border=\"1\" class=\"dataframe\">\n",
       "  <thead>\n",
       "    <tr style=\"text-align: right;\">\n",
       "      <th></th>\n",
       "      <th>,ID,Fullname,Birthday,Sex,Hometown,Jobtype,Salary,Marital Status</th>\n",
       "    </tr>\n",
       "  </thead>\n",
       "  <tbody>\n",
       "    <tr>\n",
       "      <th>0</th>\n",
       "      <td>0,123456789012,Nguyen Van A,12/09/1985,Male,Tr...</td>\n",
       "    </tr>\n",
       "    <tr>\n",
       "      <th>1</th>\n",
       "      <td>1,123456789012,Nguyen Van Anh,15/08/1990,Male,...</td>\n",
       "    </tr>\n",
       "    <tr>\n",
       "      <th>2</th>\n",
       "      <td>2,123456789012,Nguyen Van Anh,20/07/1985,Femal...</td>\n",
       "    </tr>\n",
       "    <tr>\n",
       "      <th>3</th>\n",
       "      <td>3,123456789012,Trần Thị Minh Thu,12/05/1987,fe...</td>\n",
       "    </tr>\n",
       "    <tr>\n",
       "      <th>4</th>\n",
       "      <td>4,123456789012,Nguyễn Văn A,20/03/1990,Male,Bà...</td>\n",
       "    </tr>\n",
       "    <tr>\n",
       "      <th>...</th>\n",
       "      <td>...</td>\n",
       "    </tr>\n",
       "    <tr>\n",
       "      <th>9995</th>\n",
       "      <td>9995,123456789012,Nguyen Van Anh,26/07/1992,Ma...</td>\n",
       "    </tr>\n",
       "    <tr>\n",
       "      <th>9996</th>\n",
       "      <td>9996,493091448434,Nguyen Van Anh,18/07/1990,ma...</td>\n",
       "    </tr>\n",
       "    <tr>\n",
       "      <th>9997</th>\n",
       "      <td>9997,123456789012,Nguyễn Thị Thanh Thúy,12/08/...</td>\n",
       "    </tr>\n",
       "    <tr>\n",
       "      <th>9998</th>\n",
       "      <td>9998,123456789123,Nguyen Van A,12/06/1987,Male...</td>\n",
       "    </tr>\n",
       "    <tr>\n",
       "      <th>9999</th>\n",
       "      <td>9999,123456789012,Nguyễn Văn Hùng,26/03/1985,M...</td>\n",
       "    </tr>\n",
       "  </tbody>\n",
       "</table>\n",
       "<p>10000 rows × 1 columns</p>\n",
       "</div>"
      ],
      "text/plain": [
       "     ,ID,Fullname,Birthday,Sex,Hometown,Jobtype,Salary,Marital Status\n",
       "0     0,123456789012,Nguyen Van A,12/09/1985,Male,Tr...              \n",
       "1     1,123456789012,Nguyen Van Anh,15/08/1990,Male,...              \n",
       "2     2,123456789012,Nguyen Van Anh,20/07/1985,Femal...              \n",
       "3     3,123456789012,Trần Thị Minh Thu,12/05/1987,fe...              \n",
       "4     4,123456789012,Nguyễn Văn A,20/03/1990,Male,Bà...              \n",
       "...                                                 ...              \n",
       "9995  9995,123456789012,Nguyen Van Anh,26/07/1992,Ma...              \n",
       "9996  9996,493091448434,Nguyen Van Anh,18/07/1990,ma...              \n",
       "9997  9997,123456789012,Nguyễn Thị Thanh Thúy,12/08/...              \n",
       "9998  9998,123456789123,Nguyen Van A,12/06/1987,Male...              \n",
       "9999  9999,123456789012,Nguyễn Văn Hùng,26/03/1985,M...              \n",
       "\n",
       "[10000 rows x 1 columns]"
      ]
     },
     "execution_count": 4,
     "metadata": {},
     "output_type": "execute_result"
    }
   ],
   "source": [
    "df"
   ]
  },
  {
   "cell_type": "code",
   "execution_count": 4,
   "id": "e01802bb-e467-4355-8bb0-0230d19bca10",
   "metadata": {},
   "outputs": [
    {
     "data": {
      "text/html": [
       "<div>\n",
       "<style scoped>\n",
       "    .dataframe tbody tr th:only-of-type {\n",
       "        vertical-align: middle;\n",
       "    }\n",
       "\n",
       "    .dataframe tbody tr th {\n",
       "        vertical-align: top;\n",
       "    }\n",
       "\n",
       "    .dataframe thead th {\n",
       "        text-align: right;\n",
       "    }\n",
       "</style>\n",
       "<table border=\"1\" class=\"dataframe\">\n",
       "  <thead>\n",
       "    <tr style=\"text-align: right;\">\n",
       "      <th></th>\n",
       "      <th>,ID,Fullname,Birthday,Sex,Hometown,Jobtype,Salary,Marital Status</th>\n",
       "    </tr>\n",
       "  </thead>\n",
       "  <tbody>\n",
       "    <tr>\n",
       "      <th>0</th>\n",
       "      <td>0,123456789012,Nguyen Van A,12/09/1985,Male,Tr...</td>\n",
       "    </tr>\n",
       "    <tr>\n",
       "      <th>1</th>\n",
       "      <td>1,123456789012,Nguyen Van Anh,15/08/1990,Male,...</td>\n",
       "    </tr>\n",
       "    <tr>\n",
       "      <th>2</th>\n",
       "      <td>2,123456789012,Nguyen Van Anh,20/07/1985,Femal...</td>\n",
       "    </tr>\n",
       "    <tr>\n",
       "      <th>3</th>\n",
       "      <td>3,123456789012,Trần Thị Minh Thu,12/05/1987,fe...</td>\n",
       "    </tr>\n",
       "    <tr>\n",
       "      <th>4</th>\n",
       "      <td>4,123456789012,Nguyễn Văn A,20/03/1990,Male,Bà...</td>\n",
       "    </tr>\n",
       "    <tr>\n",
       "      <th>...</th>\n",
       "      <td>...</td>\n",
       "    </tr>\n",
       "    <tr>\n",
       "      <th>9995</th>\n",
       "      <td>9995,123456789012,Nguyen Van Anh,26/07/1992,Ma...</td>\n",
       "    </tr>\n",
       "    <tr>\n",
       "      <th>9996</th>\n",
       "      <td>9996,493091448434,Nguyen Van Anh,18/07/1990,ma...</td>\n",
       "    </tr>\n",
       "    <tr>\n",
       "      <th>9997</th>\n",
       "      <td>9997,123456789012,Nguyễn Thị Thanh Thúy,12/08/...</td>\n",
       "    </tr>\n",
       "    <tr>\n",
       "      <th>9998</th>\n",
       "      <td>9998,123456789123,Nguyen Van A,12/06/1987,Male...</td>\n",
       "    </tr>\n",
       "    <tr>\n",
       "      <th>9999</th>\n",
       "      <td>9999,123456789012,Nguyễn Văn Hùng,26/03/1985,M...</td>\n",
       "    </tr>\n",
       "  </tbody>\n",
       "</table>\n",
       "<p>10000 rows × 1 columns</p>\n",
       "</div>"
      ],
      "text/plain": [
       "     ,ID,Fullname,Birthday,Sex,Hometown,Jobtype,Salary,Marital Status\n",
       "0     0,123456789012,Nguyen Van A,12/09/1985,Male,Tr...              \n",
       "1     1,123456789012,Nguyen Van Anh,15/08/1990,Male,...              \n",
       "2     2,123456789012,Nguyen Van Anh,20/07/1985,Femal...              \n",
       "3     3,123456789012,Trần Thị Minh Thu,12/05/1987,fe...              \n",
       "4     4,123456789012,Nguyễn Văn A,20/03/1990,Male,Bà...              \n",
       "...                                                 ...              \n",
       "9995  9995,123456789012,Nguyen Van Anh,26/07/1992,Ma...              \n",
       "9996  9996,493091448434,Nguyen Van Anh,18/07/1990,ma...              \n",
       "9997  9997,123456789012,Nguyễn Thị Thanh Thúy,12/08/...              \n",
       "9998  9998,123456789123,Nguyen Van A,12/06/1987,Male...              \n",
       "9999  9999,123456789012,Nguyễn Văn Hùng,26/03/1985,M...              \n",
       "\n",
       "[10000 rows x 1 columns]"
      ]
     },
     "execution_count": 4,
     "metadata": {},
     "output_type": "execute_result"
    }
   ],
   "source": [
    "df"
   ]
  },
  {
   "cell_type": "code",
   "execution_count": 5,
   "id": "e25adc63-841b-44e7-8480-f8f104c8b84b",
   "metadata": {},
   "outputs": [
    {
     "name": "stdout",
     "output_type": "stream",
     "text": [
      "<class 'pandas.core.frame.DataFrame'>\n",
      "RangeIndex: 10000 entries, 0 to 9999\n",
      "Data columns (total 1 columns):\n",
      " #   Column                                                            Non-Null Count  Dtype \n",
      "---  ------                                                            --------------  ----- \n",
      " 0   ,ID,Fullname,Birthday,Sex,Hometown,Jobtype,Salary,Marital Status  10000 non-null  object\n",
      "dtypes: object(1)\n",
      "memory usage: 78.3+ KB\n"
     ]
    }
   ],
   "source": [
    "df.info()\n"
   ]
  },
  {
   "cell_type": "code",
   "execution_count": 1,
   "id": "36afa2b4-894f-4493-8be1-099d38aabdcd",
   "metadata": {},
   "outputs": [
    {
     "ename": "SyntaxError",
     "evalue": "invalid syntax (2276788893.py, line 2)",
     "output_type": "error",
     "traceback": [
      "\u001b[1;36m  Cell \u001b[1;32mIn[1], line 2\u001b[1;36m\u001b[0m\n\u001b[1;33m    Cau 4 :\u001b[0m\n\u001b[1;37m        ^\u001b[0m\n\u001b[1;31mSyntaxError\u001b[0m\u001b[1;31m:\u001b[0m invalid syntax\n"
     ]
    }
   ],
   "source": [
    "###  \n",
    "Cau 4 :\n",
    "ádh \n",
    "ád sad\n",
    " ád "
   ]
  },
  {
   "cell_type": "code",
   "execution_count": 2,
   "id": "a19cba2c-4a03-40cf-b919-5260b47f11c8",
   "metadata": {},
   "outputs": [
    {
     "ename": "SyntaxError",
     "evalue": "invalid syntax (3809106702.py, line 2)",
     "output_type": "error",
     "traceback": [
      "\u001b[1;36m  Cell \u001b[1;32mIn[2], line 2\u001b[1;36m\u001b[0m\n\u001b[1;33m    Cau 4 :\u001b[0m\n\u001b[1;37m        ^\u001b[0m\n\u001b[1;31mSyntaxError\u001b[0m\u001b[1;31m:\u001b[0m invalid syntax\n"
     ]
    }
   ],
   "source": [
    "###  \n",
    "Cau 4 :\n",
    "ádh \n",
    "ád sad\n",
    " ád ### \n"
   ]
  },
  {
   "cell_type": "code",
   "execution_count": 3,
   "id": "f02b777d-7b85-4717-b29e-c9ff333f92c5",
   "metadata": {},
   "outputs": [
    {
     "name": "stdout",
     "output_type": "stream",
     "text": [
      "Cau 4 : ádhsad ad a ad á\n"
     ]
    }
   ],
   "source": [
    "print (\"Cau 4 : ádhsad ad a ad á\")"
   ]
  },
  {
   "cell_type": "code",
   "execution_count": 4,
   "id": "b49a4f4f-1fa3-4410-a77c-9434e23a183d",
   "metadata": {},
   "outputs": [
    {
     "ename": "SyntaxError",
     "evalue": "unterminated string literal (detected at line 1) (2474544581.py, line 1)",
     "output_type": "error",
     "traceback": [
      "\u001b[1;36m  Cell \u001b[1;32mIn[4], line 1\u001b[1;36m\u001b[0m\n\u001b[1;33m    print (\"Hello Minh Hue cute dang yeu pho mai que\u001b[0m\n\u001b[1;37m           ^\u001b[0m\n\u001b[1;31mSyntaxError\u001b[0m\u001b[1;31m:\u001b[0m unterminated string literal (detected at line 1)\n"
     ]
    }
   ],
   "source": [
    "print (\"Hello Minh Hue cute dang yeu pho mai que "
   ]
  },
  {
   "cell_type": "code",
   "execution_count": null,
   "id": "d5762d5d-edfb-4a10-809b-7217b3514fea",
   "metadata": {},
   "outputs": [],
   "source": []
  }
 ],
 "metadata": {
  "kernelspec": {
   "display_name": "Python 3 (ipykernel)",
   "language": "python",
   "name": "python3"
  },
  "language_info": {
   "codemirror_mode": {
    "name": "ipython",
    "version": 3
   },
   "file_extension": ".py",
   "mimetype": "text/x-python",
   "name": "python",
   "nbconvert_exporter": "python",
   "pygments_lexer": "ipython3",
   "version": "3.12.0"
  }
 },
 "nbformat": 4,
 "nbformat_minor": 5
}
