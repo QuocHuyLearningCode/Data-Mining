{
 "cells": [
  {
   "cell_type": "code",
   "execution_count": 3,
   "id": "215bb97b-f6cb-42f8-b13b-4e0a97365fb4",
   "metadata": {},
   "outputs": [
    {
     "data": {
      "text/html": [
       "<div>\n",
       "<style scoped>\n",
       "    .dataframe tbody tr th:only-of-type {\n",
       "        vertical-align: middle;\n",
       "    }\n",
       "\n",
       "    .dataframe tbody tr th {\n",
       "        vertical-align: top;\n",
       "    }\n",
       "\n",
       "    .dataframe thead th {\n",
       "        text-align: right;\n",
       "    }\n",
       "</style>\n",
       "<table border=\"1\" class=\"dataframe\">\n",
       "  <thead>\n",
       "    <tr style=\"text-align: right;\">\n",
       "      <th></th>\n",
       "      <th>Tên</th>\n",
       "      <th>Task 1</th>\n",
       "      <th>Task 2</th>\n",
       "      <th>Tổng % đóng góp</th>\n",
       "    </tr>\n",
       "  </thead>\n",
       "  <tbody>\n",
       "    <tr>\n",
       "      <th>0</th>\n",
       "      <td>Mai Gia Bảo</td>\n",
       "      <td>YC1: Tiền xử lý dữ liệu</td>\n",
       "      <td>Kiểm tra bài làm YC2</td>\n",
       "      <td>25%</td>\n",
       "    </tr>\n",
       "    <tr>\n",
       "      <th>1</th>\n",
       "      <td>Hồ Nguyễn Phương Quỳnh</td>\n",
       "      <td>YC2: Mô tả dữ liệu</td>\n",
       "      <td>Kiểm tra bài làm YC3</td>\n",
       "      <td>25%</td>\n",
       "    </tr>\n",
       "    <tr>\n",
       "      <th>2</th>\n",
       "      <td>Nguyễn Phương Nhi</td>\n",
       "      <td>YC3: Trực quan hóa dữ liệu</td>\n",
       "      <td>Kiểm tra YC1</td>\n",
       "      <td>25%</td>\n",
       "    </tr>\n",
       "    <tr>\n",
       "      <th>3</th>\n",
       "      <td>Tổng % khối lượng công việc</td>\n",
       "      <td></td>\n",
       "      <td></td>\n",
       "      <td>75%</td>\n",
       "    </tr>\n",
       "  </tbody>\n",
       "</table>\n",
       "</div>"
      ],
      "text/plain": [
       "                           Tên                      Task 1  \\\n",
       "0                  Mai Gia Bảo     YC1: Tiền xử lý dữ liệu   \n",
       "1       Hồ Nguyễn Phương Quỳnh          YC2: Mô tả dữ liệu   \n",
       "2            Nguyễn Phương Nhi  YC3: Trực quan hóa dữ liệu   \n",
       "3  Tổng % khối lượng công việc                               \n",
       "\n",
       "                 Task 2 Tổng % đóng góp  \n",
       "0  Kiểm tra bài làm YC2             25%  \n",
       "1  Kiểm tra bài làm YC3             25%  \n",
       "2          Kiểm tra YC1             25%  \n",
       "3                                   75%  "
      ]
     },
     "execution_count": 3,
     "metadata": {},
     "output_type": "execute_result"
    }
   ],
   "source": [
    "import pandas as pd\n",
    "data = {'Tên': ['Mai Gia Bảo', 'Hồ Nguyễn Phương Quỳnh', 'Nguyễn Phương Nhi',  'Tổng % khối lượng công việc'],\n",
    "        'Task 1': ['YC1: Tiền xử lý dữ liệu','YC2: Mô tả dữ liệu','YC3: Trực quan hóa dữ liệu',''],\n",
    "        'Task 2' :['Kiểm tra bài làm YC2', 'Kiểm tra bài làm YC3','Kiểm tra YC1',''],\n",
    "        'Tổng % đóng góp' :['25%', '25%', '25%', '75%']}\n",
    "team_work = pd.DataFrame(data)\n",
    "\n",
    "# Hiển thị bảng dữ liệu\n",
    "team_work"
   ]
  },
  {
   "cell_type": "code",
   "execution_count": null,
   "id": "a72ac718-e172-45e6-bf47-3ba7b39263a6",
   "metadata": {},
   "outputs": [],
   "source": [
    "import pandas as pd\n",
    "data = {'Tên': ['Hồ Minh Huệ', 'Nguyễn Tiến Mạnh', 'Lê Đặng Yến Quyên',  'Tổng % khối lượng công việc'],\n",
    "        'Task 1': ['YC1: Tiền xử lý dữ liệu', 'YC3: Trực quan hóa dữ liệu', 'YC4: Phân tích dữ liệu',''],\n",
    "        'Task 2' :['YC2: Mô tả dữ liệu', 'Kiểm tra bài làm YC1', 'Kiểm tra bài làm YC2',''],\n",
    "        'Task 3' :['Tổng hợp bài làm', 'Kiểm tra bài làm YC4', 'Kiểm tra bài làm YC3',''],\n",
    "        'Tổng % đóng góp' :['34%', '33%', '33%', '100%']}\n",
    "team_work = pd.DataFrame(data)\n",
    "\n",
    "# Hiển thị bảng dữ liệu\n",
    "team_work"
   ]
  },
  {
   "cell_type": "code",
   "execution_count": null,
   "id": "02f153c9-6a99-464d-bd42-4628bf95d977",
   "metadata": {},
   "outputs": [],
   "source": []
  }
 ],
 "metadata": {
  "kernelspec": {
   "display_name": "Python 3 (ipykernel)",
   "language": "python",
   "name": "python3"
  },
  "language_info": {
   "codemirror_mode": {
    "name": "ipython",
    "version": 3
   },
   "file_extension": ".py",
   "mimetype": "text/x-python",
   "name": "python",
   "nbconvert_exporter": "python",
   "pygments_lexer": "ipython3",
   "version": "3.12.0"
  }
 },
 "nbformat": 4,
 "nbformat_minor": 5
}
