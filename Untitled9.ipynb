{
 "cells": [
  {
   "cell_type": "code",
   "execution_count": null,
   "id": "cec00394-3c28-42a8-a909-db4eff073b40",
   "metadata": {},
   "outputs": [],
   "source": [
    "<div style=\"text-align: center;\">\n",
    "    <span style=\"font-size: 25px; color: black;\">\n",
    "        <strong>[010412204101] - Khai thác dữ liệu</strong>\n",
    "    </span><br>\n",
    "    <span style=\"font-size: 25px; color: black;\">\n",
    "        <strong>Nguyễn Quốc Huy - 22H1120071 - CN22CLCC</strong>\n",
    "    </span><br>\n",
    "    <p style=\"font-size: 25px; color: black;\">\n",
    "        <strong>Bài tập 1.1</strong>\n",
    "    </p>\n",
    "</div>\n"
   ]
  },
  {
   "cell_type": "code",
   "execution_count": null,
   "id": "6d3fa1da-10c0-4804-9456-03d47b99c281",
   "metadata": {},
   "outputs": [],
   "source": [
    "import pandas as pd"
   ]
  },
  {
   "cell_type": "code",
   "execution_count": null,
   "id": "b4f007bb-362b-465e-a66c-3a64cc94b777",
   "metadata": {},
   "outputs": [],
   "source": [
    "# 1. Nhập/ Xuất với Python\n",
    "studentName = input(\"Nhập họ và tên: \")\n",
    "numberID = input(\"Nhập mã số sinh viên: \")\n",
    "className = input(\"Nhập lớp: \")\n",
    "print(f\"Tên: {studentName}, MSSV: {numberID}, Lớp: {className}\")"
   ]
  },
  {
   "cell_type": "code",
   "execution_count": null,
   "id": "415fc0c5-157c-4818-84e3-a7fe4686aebe",
   "metadata": {},
   "outputs": [],
   "source": [
    "# 2. Các kiểu dữ liệu cơ bản và phép toán trên chúng (string, interger, float, bool)\n",
    "# a. Interger (Số nguyên) - Float (Số thực)\n",
    "x = 10  # Integer\n",
    "y = 3.14  # Float\n",
    "print(f\"Tổng: {x + y}, Hiệu: {x - y}, Tích: {x * y}, Thương: {x / y}\")"
   ]
  },
  {
   "cell_type": "code",
   "execution_count": null,
   "id": "ea588ad2-9a8a-46d3-ad9b-f805b5bca3a2",
   "metadata": {},
   "outputs": [],
   "source": [
    "# b. String (Chuỗi)\n",
    "text = \"Data Mining\"\n",
    "print(text.upper())  # Chuyển thành chữ hoa\n",
    "print(f\"Độ dài của chuỗi là: {len(text)}\")"
   ]
  },
  {
   "cell_type": "code",
   "execution_count": null,
   "id": "50b720fb-0a7c-4921-ab73-70b62cf3c4fc",
   "metadata": {},
   "outputs": [],
   "source": [
    "# c. Bool\n",
    "is_active = True\n",
    "print(f\"Giá trị đảo ngược: {not is_active}\")"
   ]
  },
  {
   "cell_type": "code",
   "execution_count": null,
   "id": "18988946-e70c-48e4-801d-bb4cfdee80ed",
   "metadata": {},
   "outputs": [],
   "source": [
    "# 3. Các kiểu dữ liệu nâng cao: List, Tupble, Set, Dictionary\n",
    "# (Mỗi kiểu dữ liệu cho mô tả ngắn, ngữ cảnh áp dụng, và ví dụ minh hoạ)\n",
    "# a. List\n",
    "fruits = [\"apple\", \"banana\", \"cherry\"]\n",
    "fruits.append(\"orange\")  # Thêm phần tử\n",
    "print(fruits)"
   ]
  },
  {
   "cell_type": "code",
   "execution_count": null,
   "id": "c0511d43-9783-4572-8548-bf06eac3c233",
   "metadata": {},
   "outputs": [],
   "source": [
    "# b. Tupble\n",
    "coordinates = (10, 20)\n",
    "print(f\"Giá trị tại index 1: {coordinates[1]}\")"
   ]
  },
  {
   "cell_type": "code",
   "execution_count": null,
   "id": "56d697db-7732-4210-8cf6-3f7508fab2c1",
   "metadata": {},
   "outputs": [],
   "source": [
    "# c. Set\n",
    "unique_numbers = {1, 2, 2, 3}\n",
    "print(unique_numbers)"
   ]
  },
  {
   "cell_type": "code",
   "execution_count": null,
   "id": "6c6735bb-d60d-41a7-843f-1627b72a2820",
   "metadata": {},
   "outputs": [],
   "source": [
    "# d. Dictionary\n",
    "student = {\"name\": \"Alice\", \"age\": 22}\n",
    "print(f\"Tên: {student['name']}\")"
   ]
  },
  {
   "cell_type": "code",
   "execution_count": null,
   "id": "22b2b875-dc4a-439b-a708-a129f4550a04",
   "metadata": {},
   "outputs": [],
   "source": []
  }
 ],
 "metadata": {
  "kernelspec": {
   "display_name": "Python 3 (ipykernel)",
   "language": "python",
   "name": "python3"
  },
  "language_info": {
   "codemirror_mode": {
    "name": "ipython",
    "version": 3
   },
   "file_extension": ".py",
   "mimetype": "text/x-python",
   "name": "python",
   "nbconvert_exporter": "python",
   "pygments_lexer": "ipython3",
   "version": "3.12.0"
  }
 },
 "nbformat": 4,
 "nbformat_minor": 5
}
